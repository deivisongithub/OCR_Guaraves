{
 "cells": [
  {
   "cell_type": "code",
   "execution_count": 1,
   "id": "dab74ebf",
   "metadata": {},
   "outputs": [],
   "source": [
    "import datetime"
   ]
  },
  {
   "cell_type": "code",
   "execution_count": 2,
   "id": "a158c5aa",
   "metadata": {},
   "outputs": [],
   "source": [
    "line_data_csv = []"
   ]
  },
  {
   "cell_type": "code",
   "execution_count": 3,
   "id": "be2fb2d3",
   "metadata": {},
   "outputs": [],
   "source": [
    "#Capturando a data e hora do sistema\n",
    "\n",
    "tempo = datetime.datetime.now()\n",
    "\n",
    "#adicionando a data do sistema operacional da máquina\n",
    "\n",
    "data_string = tempo.strftime(\"%d/%m/%Y\")\n",
    "line_data_csv.append(data_string)\n",
    "\n",
    "time_string = tempo.strftime(\"%H:%M\")\n",
    "line_data_csv.append(time_string)"
   ]
  },
  {
   "cell_type": "code",
   "execution_count": 4,
   "id": "3c0217cc",
   "metadata": {},
   "outputs": [
    {
     "name": "stdout",
     "output_type": "stream",
     "text": [
      "['09/02/2022', '16:13']\n"
     ]
    }
   ],
   "source": [
    "print(line_data_csv)"
   ]
  }
 ],
 "metadata": {
  "kernelspec": {
   "display_name": "Python 3 (ipykernel)",
   "language": "python",
   "name": "python3"
  },
  "language_info": {
   "codemirror_mode": {
    "name": "ipython",
    "version": 3
   },
   "file_extension": ".py",
   "mimetype": "text/x-python",
   "name": "python",
   "nbconvert_exporter": "python",
   "pygments_lexer": "ipython3",
   "version": "3.9.7"
  }
 },
 "nbformat": 4,
 "nbformat_minor": 5
}
